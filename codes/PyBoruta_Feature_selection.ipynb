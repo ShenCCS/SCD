{
 "cells": [
  {
   "cell_type": "code",
   "execution_count": null,
   "metadata": {},
   "outputs": [],
   "source": [
    "# Using PyBoruta doing feature selection "
   ]
  },
  {
   "cell_type": "code",
   "execution_count": 1,
   "metadata": {},
   "outputs": [
    {
     "name": "stderr",
     "output_type": "stream",
     "text": [
      "/home/john/anaconda3/envs/SCD/lib/python3.7/site-packages/pkg_resources/__init__.py:125: PkgResourcesDeprecationWarning: -VERSION-PLACEHOLDER- is an invalid version and will not be supported in a future release\n",
      "  PkgResourcesDeprecationWarning,\n"
     ]
    }
   ],
   "source": [
    "import pandas as pd, numpy as np, scipy, os, itertools, sys\n",
    "from sklearn.ensemble import RandomForestRegressor\n",
    "from boruta import BorutaPy\n",
    "sys.path.append('..')\n",
    "from func import loaders\n",
    "from import_library import *"
   ]
  },
  {
   "cell_type": "code",
   "execution_count": 7,
   "metadata": {},
   "outputs": [],
   "source": [
    "outcome_df = pd.read_csv('./data/clinical data/clinical_data_2.csv')[['subj', 'AD8主觀認知障礙[0-1,>=2]', 'MOCA客觀認知測驗分數[<=23,>=24]']]\n",
    "data_type ='var' #mean, var\n",
    "ld_excel = loaders(data_type = data_type)\n",
    "ld_mat = loaders(data_type=data_type)\n",
    "raw_data_path = './data/dFC matrix matlab/'\n",
    "for next_path in sorted(os.listdir(raw_data_path)):\n",
    "    if 'C0018FC_z.mat' not in next_path and '.mat' in next_path:\n",
    "        ld_mat.load_mat(data_path = os.path.join(raw_data_path,next_path))\n",
    "alff_index, alff_value, alff_columns = ld_excel.load_csv(data_path=f'./data/mdALFF matrix excel/mdALFF_{data_type}.csv')\n",
    "fc_value = ld_mat.callback()"
   ]
  },
  {
   "cell_type": "code",
   "execution_count": 8,
   "metadata": {},
   "outputs": [
    {
     "name": "stdout",
     "output_type": "stream",
     "text": [
      "FC var Feature Selection: AD8主觀認知障礙[0-1,>=2]\n",
      "AD8主觀認知障礙[0-1,>=2]\n",
      "FC var Feature Selection: MOCA客觀認知測驗分數[<=23,>=24]\n",
      "MOCA客觀認知測驗分數[<=23,>=24]\n"
     ]
    }
   ],
   "source": [
    "model_stack_ALFF = [None, None]\n",
    "model_stack_FC = [None, None]\n",
    "model_feature_stack = []\n",
    "for idx, outcome_name in enumerate(['AD8主觀認知障礙[0-1,>=2]', 'MOCA客觀認知測驗分數[<=23,>=24]']):\n",
    "# for idx, outcome_name in enumerate(['AD8主觀認知障礙[0-1,>=2]']):\n",
    "    forest = RandomForestRegressor(max_depth = 5, n_jobs=-1, random_state=120)\n",
    "\n",
    "    # #FC feature selection\n",
    "    print(f\"FC {data_type} Feature Selection:\", outcome_name)\n",
    "    print(outcome_name)\n",
    "    feat_selector_fc = BorutaPy(forest, verbose=0, random_state=120, max_iter=10)\n",
    "    feat_selector_fc.fit(fc_value, np.array(outcome_df[outcome_name]))\n",
    "    model_stack_FC[idx] = (feat_selector_fc)\n",
    "    ranking_stack = []\n",
    "    for (value, colum) in zip(feat_selector_fc.ranking_, [f'FC_{data_type}_{i}' for i in range (fc_value.shape[1])]):\n",
    "        ranking_stack.append([value, colum])\n",
    "    ranking_stack = sorted(ranking_stack)\n",
    "    pd_rs = pd.DataFrame(ranking_stack, columns=['rank', 'feature_location'])\n",
    "    pd_rs.to_csv(f'./feature_selection/feature_selection_result_pyboruta/{outcome_name}_{data_type}_fc.csv', index=False)\n",
    "    model_feature_stack.append(pd_rs)\n",
    "\n",
    "    # ALFF feature selection\n",
    "    # print(f\"ALFF {data_type} Feature Selection:\", outcome_name)\n",
    "    # feat_selector_alff = BorutaPy(forest, verbose=0, random_state=120, max_iter=10, alpha=0.01, two_step=True)\n",
    "    # feat_selector_alff.fit(np.array(alff_value), np.array(outcome_df[outcome_name]))\n",
    "    # model_stack_ALFF[idx] = feat_selector_alff\n",
    "\n",
    "    # ranking_stack = []\n",
    "    # for (value, colum) in zip(feat_selector_alff.ranking_,alff_value.columns.tolist()):\n",
    "    #     ranking_stack.append([value, colum])\n",
    "    # ranking_stack = sorted(ranking_stack)\n",
    "    # pd_rs = pd.DataFrame(ranking_stack, columns=['rank', 'feature_location'])\n",
    "    # pd_rs.to_csv(f'./feature_selection/feature_selection_result_pyboruta/{outcome_name}_{data_type}_alff.csv', index=False)\n",
    "    # model_feature_stack.append(pd_rs)"
   ]
  },
  {
   "cell_type": "code",
   "execution_count": null,
   "metadata": {},
   "outputs": [],
   "source": [
    "for i in zip(model_feature_stack, ['AD8主觀認知障礙[0-1,>=2]', 'MOCA客觀認知測驗分數[<=23,>=24]']):\n",
    "    print(i[1], data_type)\n",
    "    print(i[0].head(30))\n",
    "    print('\\n')"
   ]
  },
  {
   "cell_type": "code",
   "execution_count": null,
   "metadata": {},
   "outputs": [],
   "source": []
  }
 ],
 "metadata": {
  "kernelspec": {
   "display_name": "Python 3.7.13 ('SCD')",
   "language": "python",
   "name": "python3"
  },
  "language_info": {
   "codemirror_mode": {
    "name": "ipython",
    "version": 3
   },
   "file_extension": ".py",
   "mimetype": "text/x-python",
   "name": "python",
   "nbconvert_exporter": "python",
   "pygments_lexer": "ipython3",
   "version": "3.7.13"
  },
  "orig_nbformat": 4,
  "vscode": {
   "interpreter": {
    "hash": "cbdb981c21ad674d5d7cccac22161c0c4dbafc3564596111daa16bfc4bf9df64"
   }
  }
 },
 "nbformat": 4,
 "nbformat_minor": 2
}
